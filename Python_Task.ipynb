{
 "cells": [
  {
   "cell_type": "markdown",
   "metadata": {
    "id": "h78KKq0C6253"
   },
   "source": [
    "## **GDSC Al-azhar | Data Science Training**"
   ]
  },
  {
   "cell_type": "markdown",
   "metadata": {
    "id": "oGvBNkHGCa1_"
   },
   "source": [
    "### Print words that start with : **s**"
   ]
  },
  {
   "cell_type": "code",
   "execution_count": 25,
   "metadata": {
    "id": "AnLNDKON7Z0Z"
   },
   "outputs": [],
   "source": [
    "st = 'Print only the words that start with s in this sentence'"
   ]
  },
  {
   "cell_type": "code",
   "execution_count": 26,
   "metadata": {
    "id": "ct4NS5OEHSfu"
   },
   "outputs": [
    {
     "name": "stdout",
     "output_type": "stream",
     "text": [
      "start\n",
      "s\n",
      "sentence\n"
     ]
    }
   ],
   "source": [
    "#we will split all words then make itteration and choos words starts with s\n",
    "for i in st.split():\n",
    "    if i.startswith('s') or i.startswith('S'):\n",
    "        print(i)"
   ]
  },
  {
   "cell_type": "markdown",
   "metadata": {
    "id": "4bPAdz8MBnTl"
   },
   "source": [
    "### Find the most frequent value in a list\n"
   ]
  },
  {
   "cell_type": "code",
   "execution_count": 27,
   "metadata": {
    "id": "NiWVAgc6BcuE"
   },
   "outputs": [],
   "source": [
    "test = [1, 2, 3, 9, 2, 7, 3, 5, 9, 9, 9] "
   ]
  },
  {
   "cell_type": "code",
   "execution_count": 28,
   "metadata": {
    "id": "fghCsGM3Bc1G"
   },
   "outputs": [
    {
     "name": "stdout",
     "output_type": "stream",
     "text": [
      "9\n"
     ]
    }
   ],
   "source": [
    "#we will import statistics liberary and select mode function to find the most frequent number in the list\n",
    "import statistics as st\n",
    "print(st.mode(test))"
   ]
  },
  {
   "cell_type": "markdown",
   "metadata": {
    "id": "bHYZLtkeDnJn"
   },
   "source": [
    "### Use range() to print all the even numbers from 0 to 10."
   ]
  },
  {
   "cell_type": "code",
   "execution_count": 29,
   "metadata": {
    "id": "hnhR4hUKBdRW"
   },
   "outputs": [
    {
     "name": "stdout",
     "output_type": "stream",
     "text": [
      "0\n",
      "2\n",
      "4\n",
      "6\n",
      "8\n",
      "10\n"
     ]
    }
   ],
   "source": [
    "#Code here\n",
    "for even in range(11):\n",
    "    if even%2==0:\n",
    "        print(even)"
   ]
  },
  {
   "cell_type": "markdown",
   "metadata": {
    "id": "WzihSKexD8t8"
   },
   "source": [
    "### Use List comprehension to create a list of all numbers between 1 and 50 that are divisible by 3."
   ]
  },
  {
   "cell_type": "code",
   "execution_count": 30,
   "metadata": {
    "id": "uiXokoUBGO9g"
   },
   "outputs": [
    {
     "name": "stdout",
     "output_type": "stream",
     "text": [
      "[3, 6, 9, 12, 15, 18, 21, 24, 27, 30, 33, 36, 39, 42, 45, 48]\n"
     ]
    }
   ],
   "source": [
    "#where list3 is the list that is divisible by 3 \n",
    "list1=list(range(1,51))\n",
    "list3=[]\n",
    "for i in list1:\n",
    "    if i%3==0:\n",
    "        list3.append(i)\n",
    "print(list3)        "
   ]
  },
  {
   "cell_type": "markdown",
   "metadata": {
    "id": "B9ymkUceGSXf"
   },
   "source": [
    "____\n",
    "### Use a List Comprehension to create a list of the first letters of every word in the string below:"
   ]
  },
  {
   "cell_type": "code",
   "execution_count": 31,
   "metadata": {
    "id": "NHllckuCG6Cd"
   },
   "outputs": [],
   "source": [
    "st = 'Create a list of the first letters of every word in this string'"
   ]
  },
  {
   "cell_type": "code",
   "execution_count": 32,
   "metadata": {
    "id": "p4F4Ef-0G3p6"
   },
   "outputs": [
    {
     "name": "stdout",
     "output_type": "stream",
     "text": [
      "['C', 'a', 'l', 'o', 't', 'f', 'l', 'o', 'e', 'w', 'i', 't', 's']\n"
     ]
    }
   ],
   "source": [
    "#Code here\n",
    "st_list_word=st.split()\n",
    "frist_letter=[]\n",
    "\n",
    "for word in st_list_word :\n",
    "    letter=word[0]\n",
    "    frist_letter.append(letter)\n",
    "\n",
    "print(frist_letter)    "
   ]
  },
  {
   "cell_type": "markdown",
   "metadata": {
    "id": "PC7d_colGJmL"
   },
   "source": [
    "### Go through the string below and if the length of a word is even print \"even!\""
   ]
  },
  {
   "cell_type": "code",
   "execution_count": 33,
   "metadata": {
    "id": "PhdIp7DXHI74"
   },
   "outputs": [],
   "source": [
    "st = 'Print every word in this sentence that has an even number of letters'"
   ]
  },
  {
   "cell_type": "code",
   "execution_count": 34,
   "metadata": {
    "id": "DlZFILeDBde4"
   },
   "outputs": [
    {
     "name": "stdout",
     "output_type": "stream",
     "text": [
      "word is even!\n",
      "in is even!\n",
      "this is even!\n",
      "sentence is even!\n",
      "that is even!\n",
      "an is even!\n",
      "even is even!\n",
      "number is even!\n",
      "of is even!\n"
     ]
    }
   ],
   "source": [
    "#Code here\n",
    "words=st.split()\n",
    "for word in words:\n",
    "    if len(word)%2==0:\n",
    "        print(word+' is ''even!')"
   ]
  },
  {
   "cell_type": "markdown",
   "metadata": {
    "id": "vOcpHFeKIDLW"
   },
   "source": [
    "**Using Code**\n",
    "### How to Update List & dict \n",
    "### how to delete elements From List \n",
    "### advantage of set()"
   ]
  },
  {
   "cell_type": "code",
   "execution_count": 65,
   "metadata": {
    "id": "F08boGrLEDM3"
   },
   "outputs": [
    {
     "name": "stdout",
     "output_type": "stream",
     "text": [
      "['mohamed', 4, 2, 54, 6, 53, 2, 13, 4]\n"
     ]
    }
   ],
   "source": [
    "a=[4,4,2,54,6,53,2,13,4]\n",
    "a[0]='mohamed'\n",
    "print(a)"
   ]
  },
  {
   "cell_type": "code",
   "execution_count": 64,
   "metadata": {},
   "outputs": [
    {
     "name": "stdout",
     "output_type": "stream",
     "text": [
      "[4, 4, 2, 6, 53, 2, 13, 4]\n"
     ]
    }
   ],
   "source": [
    "#Code here\n",
    "a=[4,4,2,54,6,53,2,13,4]\n",
    "a.remove(54)\n",
    "print(a)"
   ]
  },
  {
   "cell_type": "code",
   "execution_count": null,
   "metadata": {},
   "outputs": [],
   "source": [
    "#the advantage of set that it takes a small volume from memory and I can not change any thing from it"
   ]
  },
  {
   "cell_type": "markdown",
   "metadata": {
    "id": "O30MoQfXP7dC"
   },
   "source": [
    "### Using lambda : Sum 3 nums"
   ]
  },
  {
   "cell_type": "code",
   "execution_count": 68,
   "metadata": {
    "id": "oe8unH9RQI7T"
   },
   "outputs": [
    {
     "name": "stdout",
     "output_type": "stream",
     "text": [
      "6\n"
     ]
    }
   ],
   "source": [
    "#Code here\n",
    "\n",
    "sum3=lambda r,s,v:r+s+v\n",
    "print(sum3(1,2,3))"
   ]
  },
  {
   "cell_type": "markdown",
   "metadata": {
    "id": "Oj2JQ9_BQXim"
   },
   "source": [
    "### how to sort List \n",
    "\n",
    "```\n",
    "thislist = [100, 50, 65, 82, 23]\n",
    "```"
   ]
  },
  {
   "cell_type": "code",
   "execution_count": 38,
   "metadata": {
    "id": "7dusZEDKQkkU"
   },
   "outputs": [
    {
     "name": "stdout",
     "output_type": "stream",
     "text": [
      "[23, 50, 65, 82, 100]\n"
     ]
    }
   ],
   "source": [
    "#Code here\n",
    "thislist = [100, 50, 65, 82, 23]\n",
    "print(sorted(thislist))"
   ]
  },
  {
   "cell_type": "markdown",
   "metadata": {
    "id": "vM0XHRWMQ9KM"
   },
   "source": [
    "### Reverse List\n",
    "```\n",
    "thislist = [100, 50, 65, 82, 23]\n",
    "```"
   ]
  },
  {
   "cell_type": "code",
   "execution_count": 39,
   "metadata": {
    "id": "bMs5iLPMRBDe"
   },
   "outputs": [
    {
     "name": "stdout",
     "output_type": "stream",
     "text": [
      "[23, 82, 65, 50, 100]\n"
     ]
    }
   ],
   "source": [
    "#Code here\n",
    "thislist = [100, 50, 65, 82, 23]\n",
    "print(list(reversed(thislist)))"
   ]
  },
  {
   "cell_type": "markdown",
   "metadata": {
    "id": "MNB98xc-IQhB"
   },
   "source": [
    "### Write a Python function that takes a list and returns a new list with unique elements of the first list."
   ]
  },
  {
   "cell_type": "markdown",
   "metadata": {
    "id": "_jMLHcgXKLw6"
   },
   "source": [
    "```\n",
    "    Sample List : [1,1,1,1,2,2,3,3,3,3,4,5]\n",
    "    Unique List : [1, 2, 3, 4, 5]\n",
    "```\n",
    "\n"
   ]
  },
  {
   "cell_type": "code",
   "execution_count": 62,
   "metadata": {
    "id": "vT6IWYJHIHSp"
   },
   "outputs": [
    {
     "name": "stdout",
     "output_type": "stream",
     "text": [
      "[3, 2, 4, 5, 45]\n"
     ]
    }
   ],
   "source": [
    "#Code here\n",
    "def uniq(sample_list):\n",
    "    unique_list=[]\n",
    "    for i in range(len(sample_list)):\n",
    "        if sample_list[i] in unique_list:\n",
    "            continue\n",
    "        else:\n",
    "            unique_list.append(sample_list[i])\n",
    "\n",
    "        \n",
    "        \n",
    "        \n",
    "    return unique_list  \n",
    "print(uniq([3,2,3,4,5,2,45,2]))"
   ]
  },
  {
   "cell_type": "markdown",
   "metadata": {
    "id": "DztDyNXyJbj2"
   },
   "source": [
    "### Write a Python function that accepts a string and calculates the number of upper case letters and lower case letters"
   ]
  },
  {
   "cell_type": "markdown",
   "metadata": {
    "id": "yAmH2jKNIYNq"
   },
   "source": [
    "\n",
    "    Sample String : 'Hello Mr. Rogers, how are you this fine Tuesday?'\n",
    "    Expected Output : \n",
    "    No. of Upper case characters : 4\n",
    "    No. of Lower case Characters : 33\n",
    "\n",
    "If you feel ambitious, explore the Collections module to solve this problem!"
   ]
  },
  {
   "cell_type": "code",
   "execution_count": 14,
   "metadata": {
    "id": "VkiaLfb9GIkR"
   },
   "outputs": [
    {
     "name": "stdout",
     "output_type": "stream",
     "text": [
      "No. of Upper case characters :4\n",
      "No. of Lower case characters :44\n"
     ]
    }
   ],
   "source": [
    "#Code here\n",
    "def count(string):\n",
    "    upper_list=[]\n",
    "    lower_list=[]\n",
    "    for letter in list(string):\n",
    "        if letter.isupper():\n",
    "            upper_list.append(letter)\n",
    "        else:\n",
    "            lower_list.append(letter)\n",
    "            \n",
    "    No_upper=print('No. of Upper case characters :{}'.format(len(upper_list)))\n",
    "    No_lower=print('No. of Lower case characters :{}'.format(len(lower_list)))\n",
    "    \n",
    "    \n",
    "    \n",
    "count('Hello Mr. Rogers, how are you this fine Tuesday?')  "
   ]
  },
  {
   "cell_type": "markdown",
   "metadata": {
    "id": "OxwVGo7RJ8zk"
   },
   "source": [
    "### Write a Python function that takes a list and returns a new list with unique elements of the first list."
   ]
  },
  {
   "cell_type": "code",
   "execution_count": 15,
   "metadata": {
    "id": "gCw_71ZKJxza"
   },
   "outputs": [
    {
     "name": "stdout",
     "output_type": "stream",
     "text": [
      "[3, 2, 4, 5, 45]\n"
     ]
    }
   ],
   "source": [
    "#Code here\n",
    "def uniq(sample_list):\n",
    "    unique_list=[]\n",
    "    for i in range(len(sample_list)):\n",
    "        if sample_list[i] in unique_list:\n",
    "            continue\n",
    "        else:\n",
    "            unique_list.append(sample_list[i])\n",
    "\n",
    "        \n",
    "        \n",
    "        \n",
    "    return unique_list  \n",
    "print(uniq([3,2,3,4,5,2,45,2]))"
   ]
  },
  {
   "cell_type": "markdown",
   "metadata": {
    "id": "56LY3pT-KUg4"
   },
   "source": [
    "### Write a Python function to multiply all the numbers in a list."
   ]
  },
  {
   "cell_type": "markdown",
   "metadata": {
    "id": "MP9hcWP-KeuB"
   },
   "source": [
    "```\n",
    "Sample List : [1, 2, 3, -4]\n",
    "Expected Output : -24```\n",
    "\n"
   ]
  },
  {
   "cell_type": "code",
   "execution_count": 24,
   "metadata": {
    "id": "s4-V2IhRKbb2"
   },
   "outputs": [
    {
     "name": "stdout",
     "output_type": "stream",
     "text": [
      "24\n"
     ]
    }
   ],
   "source": [
    "#Code here\n",
    "import math \n",
    "def multiply(my_list):\n",
    "    mult=math.prod(my_list)\n",
    "    return mult\n",
    "print(multiply([1,2,3,-4]))"
   ]
  },
  {
   "cell_type": "markdown",
   "metadata": {
    "id": "kB1vJAIhKmoB"
   },
   "source": [
    "### Write a Python function that checks whether a passed string is palindrome or not"
   ]
  },
  {
   "cell_type": "code",
   "execution_count": null,
   "metadata": {
    "id": "AEHGBqMyLT42"
   },
   "outputs": [],
   "source": [
    "#Code here"
   ]
  },
  {
   "cell_type": "markdown",
   "metadata": {
    "id": "pzD61QThMWG-"
   },
   "source": [
    "### Open a file, name it 'test.txt' and write 'I Love python' for 5 times in it then close it."
   ]
  },
  {
   "cell_type": "code",
   "execution_count": 16,
   "metadata": {
    "id": "n5rvlxjYMUrN"
   },
   "outputs": [],
   "source": [
    "#Code here\n",
    "test=open('test.txt','w')\n",
    "test.write('I love python'*5)\n",
    "test.close()"
   ]
  },
  {
   "cell_type": "markdown",
   "metadata": {
    "id": "mXrPABZVM9Gr"
   },
   "source": [
    "### Handle the exception thrown by the code below by using try and except blocks.\n"
   ]
  },
  {
   "cell_type": "code",
   "execution_count": 18,
   "metadata": {
    "colab": {
     "base_uri": "https://localhost:8080/",
     "height": 190
    },
    "id": "a7IC5KxjNByl",
    "outputId": "45bb0ec4-931b-4ebc-9706-2c0962bca72b"
   },
   "outputs": [
    {
     "name": "stdout",
     "output_type": "stream",
     "text": [
      "you can not make exponitial on string\n"
     ]
    }
   ],
   "source": [
    "try:\n",
    "    \n",
    "    for i in ['a','b','c']:\n",
    "        \n",
    "        print(i**2)\n",
    "except:\n",
    "    print('you can not make exponitial on string')"
   ]
  },
  {
   "cell_type": "code",
   "execution_count": null,
   "metadata": {
    "id": "SMwDDxkOZwI8"
   },
   "outputs": [],
   "source": [
    "#Code here"
   ]
  },
  {
   "cell_type": "markdown",
   "metadata": {
    "id": "IJK0ED4HNJYZ"
   },
   "source": []
  },
  {
   "cell_type": "markdown",
   "metadata": {
    "id": "eTBb4dXtNzGc"
   },
   "source": [
    "### Handle the exception thrown by the code below by using try and except blocks. Then use a finally block to print 'All Done.'"
   ]
  },
  {
   "cell_type": "code",
   "execution_count": 20,
   "metadata": {
    "colab": {
     "base_uri": "https://localhost:8080/",
     "height": 208
    },
    "id": "fU7fUfmjORSP",
    "outputId": "dafc3a05-2c2f-486a-f5dd-aa61fe31e00c"
   },
   "outputs": [
    {
     "name": "stdout",
     "output_type": "stream",
     "text": [
      "you can not divide by zero\n",
      "All done\n"
     ]
    }
   ],
   "source": [
    "try:\n",
    "    \n",
    "    x = 5\n",
    "    y = 0\n",
    "\n",
    "    z = x/y\n",
    "except:\n",
    "    print('you can not divide by zero')\n",
    "finally:\n",
    "    print('All Done')"
   ]
  },
  {
   "cell_type": "code",
   "execution_count": null,
   "metadata": {
    "id": "F9kUJtPpN4Ku"
   },
   "outputs": [],
   "source": [
    "#Code here"
   ]
  },
  {
   "cell_type": "markdown",
   "metadata": {
    "id": "MJVhZZLSZa4Q"
   },
   "source": [
    "### **It does not matter how slowly you go as long as you do not stop.**\n",
    "\n",
    "**feel free to contact me if you need any further information**\n",
    "[LinkedIn](https://www.linkedin.com/in/mohamed-ibrahim-513531202/)\n"
   ]
  }
 ],
 "metadata": {
  "colab": {
   "provenance": []
  },
  "kernelspec": {
   "display_name": "Python 3 (ipykernel)",
   "language": "python",
   "name": "python3"
  },
  "language_info": {
   "codemirror_mode": {
    "name": "ipython",
    "version": 3
   },
   "file_extension": ".py",
   "mimetype": "text/x-python",
   "name": "python",
   "nbconvert_exporter": "python",
   "pygments_lexer": "ipython3",
   "version": "3.9.12"
  }
 },
 "nbformat": 4,
 "nbformat_minor": 1
}
